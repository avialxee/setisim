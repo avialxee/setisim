{
 "cells": [
  {
   "cell_type": "code",
   "execution_count": 62,
   "id": "48978dc6",
   "metadata": {},
   "outputs": [],
   "source": [
    "from casatasks import tclean, split, listobs\n",
    "from casatasks import uvcontsub, flagdata, gencal, plotweather, setjy, gaincal, bandpass, applycal, fluxscale\n",
    "try:\n",
    "    from casaplotms import plotms\n",
    "except:\n",
    "    import os\n",
    "    os.system('pip install casaplotms')\n",
    "    from casaplotms import plotms\n",
    "from pathlib import Path\n",
    "from casatools import image as IA\n",
    "from astropy.wcs import WCS\n",
    "import matplotlib.pyplot as plt\n",
    "import numpy as np\n",
    "import io\n",
    "import base64\n",
    "from os import path, makedirs, remove, getcwd\n",
    "import glob\n",
    "from shutil import rmtree"
   ]
  },
  {
   "cell_type": "code",
   "execution_count": 2,
   "id": "4d6413fa",
   "metadata": {},
   "outputs": [],
   "source": [
    "# helpers\n",
    "\n",
    "def __clear_tmp(wd,cimagename):\n",
    "    filelist = glob.glob(path.join(wd, cimagename+'.*'))\n",
    "    for f in filelist:\n",
    "        try:\n",
    "            rmtree(f)\n",
    "        except OSError:\n",
    "            remove(f)\n",
    "def save_fig(plt, fig, kind='base64', output='output.jpg'):\n",
    "    \n",
    "    if kind == 'base64':\n",
    "        buf = io.BytesIO()\n",
    "        fig.savefig(buf, format='png', bbox_inches='tight',\n",
    "                    transparent=True, pad_inches=0)\n",
    "        buf.seek(0)\n",
    "        string = base64.b64encode(buf.read())\n",
    "        plt.close()\n",
    "        return string\n",
    "    elif kind == 'plot':\n",
    "        plt.show()\n",
    "        return 'plotted'\n",
    "    else :\n",
    "        if not path.exists('output'):\n",
    "            makedirs('output')\n",
    "        newPath = 'output/'+output\n",
    "        opt = newPath\n",
    "        if path.exists(newPath):\n",
    "            numb = 1\n",
    "            while path.exists(newPath):\n",
    "                newPath = \"{0}_{2}{1}\".format(\n",
    "                    *path.splitext(opt) + (numb,))\n",
    "                try :\n",
    "                    if path.exists(newPath):\n",
    "                        numb += 1 \n",
    "                except:\n",
    "                    pass               \n",
    "        fig.savefig(newPath, format=kind, bbox_inches='tight',\n",
    "                    pad_inches=0)\n",
    "        print(\"saved {}\".format(newPath))\n",
    "        plt.close()\n",
    "        return newPath\n"
   ]
  },
  {
   "cell_type": "code",
   "execution_count": 4,
   "id": "4409d0db",
   "metadata": {},
   "outputs": [],
   "source": [
    "cwd = getcwd()\n",
    "csource = str(Path.home()) + '/CASA/tests/test_d/day2_TDEM0003_10s_norx' # ms file as visibility input\n",
    "csource_stem = str(Path(csource).stem) # filename for p1 creations\n",
    "\n",
    "work_folder = str(Path.home()) + '/CASA/tests/test_d/tmp/'+csource_stem+'/' # all creations inside this\n",
    "if not path.exists(work_folder):\n",
    "            makedirs(work_folder)\n",
    "csource_smoothed = work_folder+csource_stem+'_p1.ms' # created by p1\n",
    "cimagename=str(Path(csource_smoothed).stem) # created by p1 during tclean\n",
    "#rest_freq = '372.67249GHz'\n",
    "science_imagename='IRCp_science'\n",
    "science_vis = csource + '.contsub'\n",
    "niter=5000"
   ]
  },
  {
   "cell_type": "code",
   "execution_count": null,
   "id": "f3017d90",
   "metadata": {},
   "outputs": [],
   "source": [
    "# time v elevation\n",
    "# time v amplitude\n",
    "plotms(vis=csource,\n",
    "xaxis='time',yaxis='elevation',correlation='RR,LL',\n",
    "       #xaxis='time',yaxis='amp',correlation='RR,LL',\n",
    "       avgchannel='64',spw='0:4~60', coloraxis='field')"
   ]
  },
  {
   "cell_type": "code",
   "execution_count": null,
   "id": "ae0fbfca",
   "metadata": {},
   "outputs": [],
   "source": [
    "# time v amplitude\n",
    "# uv_distance v amplitude\n",
    "plotms(vis=csource,field='3',\n",
    "       xaxis='time',yaxis='amp',correlation='RR,LL',\n",
    "       # xaxis='uvdist',yaxis='amp',correlation='RR,LL',\n",
    "       avgchannel='64',spw='0~1:4~60', coloraxis='spw')"
   ]
  },
  {
   "cell_type": "code",
   "execution_count": 15,
   "id": "ed9ccd2f",
   "metadata": {},
   "outputs": [
    {
     "data": {
      "text/plain": [
       "{}"
      ]
     },
     "execution_count": 15,
     "metadata": {},
     "output_type": "execute_result"
    }
   ],
   "source": [
    "# flag the visibility data for calibration\n",
    "flagdata(vis=csource,\n",
    "     mode='list',\n",
    "     inpfile=[\"field='2,3' antenna='ea12' timerange='03:41:00~04:10:00'\", # flag for amplitude vs time cal\n",
    "              \"field='2,3' antenna='ea07,ea08' timerange='03:21:40~04:10:00' spw='1'\"]) # flag for elev vs t cal"
   ]
  },
  {
   "cell_type": "code",
   "execution_count": 21,
   "id": "134b3d2b",
   "metadata": {},
   "outputs": [],
   "source": [
    "# baseline correction \n",
    "# offset calculation (VLA) baselines\n",
    "\n",
    "gencal(vis=csource,caltable='antpos.cal',\n",
    "       caltype='antpos',\n",
    "       antenna='')\n"
   ]
  },
  {
   "cell_type": "code",
   "execution_count": 26,
   "id": "29fffbb7",
   "metadata": {},
   "outputs": [],
   "source": [
    "# TODO: Note - only for VLA telescope\n",
    "# Gaincurves and antenna efficiency\n",
    "\n",
    "\n",
    "#gencal(vis=csource,caltable='gaincurve.cal',\n",
    "#       caltype='gceff')\n",
    "myTau = plotweather(vis=csource, doPlot=True)"
   ]
  },
  {
   "cell_type": "code",
   "execution_count": 27,
   "id": "6e624701",
   "metadata": {},
   "outputs": [],
   "source": [
    "gencal(vis=csource,caltable='opacity.cal',\n",
    "       caltype='opac',\n",
    "       spw='0,1',\n",
    "       parameter=myTau)"
   ]
  },
  {
   "cell_type": "code",
   "execution_count": null,
   "id": "b5c333c9",
   "metadata": {},
   "outputs": [],
   "source": [
    "# flux model for calibration\n",
    "setjy(vis=csource,listmodels=True)\n",
    "setjy(vis=csource,field='7',spw='0~1',scalebychan=True,model='3C286_A.im') # field 7 flux calib"
   ]
  },
  {
   "cell_type": "code",
   "execution_count": 44,
   "id": "e4e2fd1e",
   "metadata": {},
   "outputs": [
    {
     "name": "stderr",
     "output_type": "stream",
     "text": [
      "2021-12-23 19:56:03\tWARN\tMSTransformManager::initDataSelectionParams\tNumber of selected channels 57 for SPW 0 is smaller than specified chanbin 64\n",
      "2021-12-23 19:56:03\tWARN\tMSTransformManager::initDataSelectionParams+\tSetting chanbin to 57 for SPW 0\n"
     ]
    }
   ],
   "source": [
    "# investigate phase variation as a function of channel and time\n",
    "\n",
    "plotms(vis=csource,field='5',\n",
    "       xaxis='time',#xaxis='channel',\n",
    "       yaxis='phase',\n",
    "       correlation='RR',#correlation='LL',\n",
    "       avgchannel='64', # for time vs phase\n",
    "       # avgtime='1e8' #for ch vs phase\n",
    "       spw='0:4~60',# spw='1:4~60', \n",
    "       coloraxis='antenna2',\n",
    "       antenna='ea02'#, antenna='ea02&ea23', \n",
    "      )"
   ]
  },
  {
   "cell_type": "code",
   "execution_count": 48,
   "id": "aab9fffb",
   "metadata": {},
   "outputs": [],
   "source": [
    "# Delay Calibration due to phase variation\n",
    "\n",
    "gaincal(vis=csource, caltable='delays.cal', field='5', \n",
    "        refant='ea02', gaintype='K', gaintable=['antpos.cal','opacity.cal'])"
   ]
  },
  {
   "cell_type": "code",
   "execution_count": 50,
   "id": "08cf6415",
   "metadata": {},
   "outputs": [],
   "source": [
    "# Bandpass Calibration\n",
    "gaincal(vis=csource,\n",
    "        caltable='bpphase.gcal',\n",
    "        field='5',spw='0~1:20~40',\n",
    "        refant='ea02',calmode='p',solint='int',minsnr=2.0,\n",
    "        gaintable=['antpos.cal','opacity.cal','delays.cal'])\n",
    "plotms(vis='bpphase.gcal',gridrows=3,gridcols=3,xaxis='time',yaxis='phase',\n",
    "       iteraxis='antenna',coloraxis='corr',plotrange=[0,0,-180,180])"
   ]
  },
  {
   "cell_type": "code",
   "execution_count": 53,
   "id": "75db3a3e",
   "metadata": {},
   "outputs": [],
   "source": [
    "bandpass(vis=csource,caltable='bandpass.bcal',field='5',\n",
    "        refant='ea02',solint='inf',solnorm=False,\n",
    "        gaintable=['antpos.cal','opacity.cal','delays.cal','bpphase.gcal'])"
   ]
  },
  {
   "cell_type": "code",
   "execution_count": 56,
   "id": "726f7ed6",
   "metadata": {},
   "outputs": [],
   "source": [
    "applycal(vis=csource,field='5',\n",
    "        gaintable=['antpos.cal','opacity.cal','delays.cal','bandpass.bcal'],\n",
    "        gainfield=['','','5','5'],calwt=False)"
   ]
  },
  {
   "cell_type": "code",
   "execution_count": 58,
   "id": "9c27eb88",
   "metadata": {},
   "outputs": [
    {
     "name": "stdout",
     "output_type": "stream",
     "text": [
      "2 of 36 solutions flagged due to SNR < 2 in spw=0 at 2010/04/26/03:22:16.0\n",
      "1 of 36 solutions flagged due to SNR < 2 in spw=0 at 2010/04/26/03:22:26.0\n",
      "1 of 36 solutions flagged due to SNR < 2 in spw=0 at 2010/04/26/03:22:36.0\n",
      "1 of 36 solutions flagged due to SNR < 2 in spw=0 at 2010/04/26/03:22:56.0\n",
      "1 of 30 solutions flagged due to SNR < 2 in spw=1 at 2010/04/26/03:21:57.1\n",
      "1 of 32 solutions flagged due to SNR < 2 in spw=1 at 2010/04/26/03:22:16.0\n",
      "2 of 32 solutions flagged due to SNR < 2 in spw=1 at 2010/04/26/03:22:26.0\n",
      "2 of 32 solutions flagged due to SNR < 2 in spw=1 at 2010/04/26/03:22:36.0\n",
      "1 of 32 solutions flagged due to SNR < 2 in spw=1 at 2010/04/26/03:22:46.0\n",
      "1 of 32 solutions flagged due to SNR < 2 in spw=1 at 2010/04/26/03:22:56.0\n",
      "1 of 32 solutions flagged due to SNR < 2 in spw=1 at 2010/04/26/03:23:06.0\n",
      "2 of 32 solutions flagged due to SNR < 2 in spw=1 at 2010/04/26/03:23:16.0\n",
      "1 of 36 solutions flagged due to SNR < 2 in spw=0 at 2010/04/26/03:28:43.4\n",
      "1 of 38 solutions flagged due to SNR < 2 in spw=0 at 2010/04/26/03:28:53.0\n",
      "1 of 38 solutions flagged due to SNR < 2 in spw=0 at 2010/04/26/03:29:13.0\n",
      "2 of 38 solutions flagged due to SNR < 2 in spw=0 at 2010/04/26/03:29:23.0\n",
      "2 of 38 solutions flagged due to SNR < 2 in spw=0 at 2010/04/26/03:29:33.0\n",
      "3 of 38 solutions flagged due to SNR < 2 in spw=0 at 2010/04/26/03:29:43.0\n",
      "2 of 38 solutions flagged due to SNR < 2 in spw=0 at 2010/04/26/03:29:49.0\n",
      "1 of 32 solutions flagged due to SNR < 2 in spw=1 at 2010/04/26/03:28:43.4\n",
      "2 of 34 solutions flagged due to SNR < 2 in spw=1 at 2010/04/26/03:28:53.0\n",
      "1 of 34 solutions flagged due to SNR < 2 in spw=1 at 2010/04/26/03:29:03.0\n",
      "1 of 34 solutions flagged due to SNR < 2 in spw=1 at 2010/04/26/03:29:23.0\n",
      "2 of 34 solutions flagged due to SNR < 2 in spw=1 at 2010/04/26/03:29:33.0\n",
      "2 of 34 solutions flagged due to SNR < 2 in spw=1 at 2010/04/26/03:29:43.0\n",
      "3 of 34 solutions flagged due to SNR < 2 in spw=1 at 2010/04/26/03:29:49.0\n",
      "2 of 38 solutions flagged due to SNR < 2 in spw=0 at 2010/04/26/03:35:12.4\n",
      "2 of 38 solutions flagged due to SNR < 2 in spw=0 at 2010/04/26/03:35:22.0\n",
      "2 of 38 solutions flagged due to SNR < 2 in spw=0 at 2010/04/26/03:35:32.0\n",
      "2 of 38 solutions flagged due to SNR < 2 in spw=0 at 2010/04/26/03:35:42.0\n",
      "1 of 38 solutions flagged due to SNR < 2 in spw=0 at 2010/04/26/03:36:02.0\n",
      "2 of 38 solutions flagged due to SNR < 2 in spw=0 at 2010/04/26/03:36:12.0\n",
      "3 of 38 solutions flagged due to SNR < 2 in spw=0 at 2010/04/26/03:36:18.0\n",
      "1 of 34 solutions flagged due to SNR < 2 in spw=1 at 2010/04/26/03:35:12.5\n",
      "3 of 34 solutions flagged due to SNR < 2 in spw=1 at 2010/04/26/03:35:22.0\n",
      "2 of 34 solutions flagged due to SNR < 2 in spw=1 at 2010/04/26/03:35:32.0\n",
      "1 of 34 solutions flagged due to SNR < 2 in spw=1 at 2010/04/26/03:35:42.0\n",
      "2 of 34 solutions flagged due to SNR < 2 in spw=1 at 2010/04/26/03:36:02.0\n",
      "2 of 34 solutions flagged due to SNR < 2 in spw=1 at 2010/04/26/03:36:12.0\n",
      "1 of 34 solutions flagged due to SNR < 2 in spw=1 at 2010/04/26/03:36:18.0\n",
      "1 of 36 solutions flagged due to SNR < 2 in spw=0 at 2010/04/26/03:42:10.0\n",
      "1 of 36 solutions flagged due to SNR < 2 in spw=0 at 2010/04/26/03:42:30.0\n",
      "2 of 36 solutions flagged due to SNR < 2 in spw=0 at 2010/04/26/03:42:46.5\n",
      "1 of 32 solutions flagged due to SNR < 2 in spw=1 at 2010/04/26/03:42:20.0\n",
      "1 of 32 solutions flagged due to SNR < 2 in spw=1 at 2010/04/26/03:42:40.0\n",
      "1 of 36 solutions flagged due to SNR < 2 in spw=0 at 2010/04/26/03:48:59.0\n",
      "1 of 36 solutions flagged due to SNR < 2 in spw=0 at 2010/04/26/03:49:09.0\n",
      "1 of 36 solutions flagged due to SNR < 2 in spw=0 at 2010/04/26/03:49:15.5\n",
      "2 of 32 solutions flagged due to SNR < 2 in spw=1 at 2010/04/26/03:48:39.0\n",
      "1 of 32 solutions flagged due to SNR < 2 in spw=1 at 2010/04/26/03:48:49.0\n",
      "1 of 32 solutions flagged due to SNR < 2 in spw=1 at 2010/04/26/03:48:59.0\n",
      "1 of 32 solutions flagged due to SNR < 2 in spw=1 at 2010/04/26/03:49:15.5\n",
      "1 of 34 solutions flagged due to SNR < 2 in spw=0 at 2010/04/26/03:55:08.0\n",
      "1 of 32 solutions flagged due to SNR < 2 in spw=1 at 2010/04/26/03:55:44.5\n",
      "1 of 30 solutions flagged due to SNR < 2 in spw=1 at 2010/04/26/04:01:07.4\n",
      "1 of 32 solutions flagged due to SNR < 2 in spw=1 at 2010/04/26/04:01:37.0\n",
      "1 of 32 solutions flagged due to SNR < 2 in spw=1 at 2010/04/26/04:01:57.0\n",
      "1 of 32 solutions flagged due to SNR < 2 in spw=1 at 2010/04/26/04:08:42.5\n",
      "1 of 38 solutions flagged due to SNR < 2 in spw=1 at 2010/04/26/04:13:09.0\n",
      "2 of 38 solutions flagged due to SNR < 2 in spw=1 at 2010/04/26/04:13:29.0\n",
      "2 of 38 solutions flagged due to SNR < 2 in spw=1 at 2010/04/26/04:13:39.0\n",
      "2 of 38 solutions flagged due to SNR < 2 in spw=1 at 2010/04/26/04:13:49.0\n",
      "1 of 38 solutions flagged due to SNR < 2 in spw=1 at 2010/04/26/04:14:08.5\n",
      "1 of 38 solutions flagged due to SNR < 2 in spw=0 at 2010/04/26/04:20:40.0\n",
      "1 of 38 solutions flagged due to SNR < 2 in spw=1 at 2010/04/26/04:19:43.0\n",
      "1 of 38 solutions flagged due to SNR < 2 in spw=1 at 2010/04/26/04:19:53.0\n",
      "1 of 38 solutions flagged due to SNR < 2 in spw=1 at 2010/04/26/04:20:13.0\n",
      "1 of 38 solutions flagged due to SNR < 2 in spw=1 at 2010/04/26/04:20:23.0\n",
      "1 of 38 solutions flagged due to SNR < 2 in spw=1 at 2010/04/26/04:20:33.0\n",
      "1 of 38 solutions flagged due to SNR < 2 in spw=1 at 2010/04/26/04:20:40.0\n",
      "1 of 38 solutions flagged due to SNR < 2 in spw=0 at 2010/04/26/04:26:12.0\n",
      "1 of 38 solutions flagged due to SNR < 2 in spw=0 at 2010/04/26/04:27:09.0\n",
      "2 of 36 solutions flagged due to SNR < 2 in spw=1 at 2010/04/26/04:26:02.5\n",
      "1 of 38 solutions flagged due to SNR < 2 in spw=1 at 2010/04/26/04:26:12.0\n",
      "1 of 38 solutions flagged due to SNR < 2 in spw=1 at 2010/04/26/04:26:32.0\n",
      "2 of 38 solutions flagged due to SNR < 2 in spw=1 at 2010/04/26/04:26:42.0\n",
      "1 of 38 solutions flagged due to SNR < 2 in spw=1 at 2010/04/26/04:26:52.0\n",
      "2 of 38 solutions flagged due to SNR < 2 in spw=1 at 2010/04/26/04:27:09.0\n",
      "1 of 38 solutions flagged due to SNR < 2 in spw=0 at 2010/04/26/04:33:01.0\n",
      "1 of 38 solutions flagged due to SNR < 2 in spw=0 at 2010/04/26/04:33:38.0\n",
      "1 of 36 solutions flagged due to SNR < 2 in spw=1 at 2010/04/26/04:32:31.6\n",
      "1 of 38 solutions flagged due to SNR < 2 in spw=1 at 2010/04/26/04:33:11.0\n",
      "1 of 38 solutions flagged due to SNR < 2 in spw=1 at 2010/04/26/04:33:21.0\n",
      "1 of 38 solutions flagged due to SNR < 2 in spw=1 at 2010/04/26/04:33:31.0\n",
      "1 of 38 solutions flagged due to SNR < 2 in spw=1 at 2010/04/26/04:33:38.0\n",
      "1 of 36 solutions flagged due to SNR < 2 in spw=0 at 2010/04/26/04:39:00.4\n",
      "1 of 38 solutions flagged due to SNR < 2 in spw=0 at 2010/04/26/04:39:20.0\n",
      "2 of 38 solutions flagged due to SNR < 2 in spw=1 at 2010/04/26/04:39:10.0\n",
      "1 of 38 solutions flagged due to SNR < 2 in spw=1 at 2010/04/26/04:40:00.0\n",
      "1 of 38 solutions flagged due to SNR < 2 in spw=0 at 2010/04/26/04:46:29.0\n",
      "1 of 38 solutions flagged due to SNR < 2 in spw=0 at 2010/04/26/04:46:35.5\n",
      "1 of 38 solutions flagged due to SNR < 2 in spw=1 at 2010/04/26/04:45:49.0\n",
      "1 of 38 solutions flagged due to SNR < 2 in spw=1 at 2010/04/26/04:46:09.0\n",
      "1 of 38 solutions flagged due to SNR < 2 in spw=1 at 2010/04/26/04:46:19.0\n",
      "1 of 38 solutions flagged due to SNR < 2 in spw=1 at 2010/04/26/04:52:07.0\n",
      "1 of 38 solutions flagged due to SNR < 2 in spw=1 at 2010/04/26/04:52:17.0\n",
      "2 of 38 solutions flagged due to SNR < 2 in spw=1 at 2010/04/26/04:52:57.0\n",
      "1 of 38 solutions flagged due to SNR < 2 in spw=0 at 2010/04/26/04:59:33.0\n",
      "1 of 38 solutions flagged due to SNR < 2 in spw=1 at 2010/04/26/04:59:06.0\n",
      "1 of 38 solutions flagged due to SNR < 2 in spw=1 at 2010/04/26/04:59:33.1\n",
      "1 of 32 solutions flagged due to SNR < 2 in spw=0 at 2010/04/26/05:05:04.5\n",
      "2 of 36 solutions flagged due to SNR < 2 in spw=1 at 2010/04/26/05:03:49.4\n",
      "2 of 32 solutions flagged due to SNR < 2 in spw=1 at 2010/04/26/05:05:04.5\n",
      "1 of 38 solutions flagged due to SNR < 2 in spw=0 at 2010/04/26/05:11:31.0\n",
      "1 of 36 solutions flagged due to SNR < 2 in spw=1 at 2010/04/26/05:10:24.5\n",
      "1 of 38 solutions flagged due to SNR < 2 in spw=1 at 2010/04/26/05:10:54.0\n",
      "1 of 38 solutions flagged due to SNR < 2 in spw=1 at 2010/04/26/05:11:24.0\n",
      "1 of 38 solutions flagged due to SNR < 2 in spw=1 at 2010/04/26/05:11:31.0\n",
      "1 of 36 solutions flagged due to SNR < 2 in spw=1 at 2010/04/26/05:16:53.5\n",
      "1 of 38 solutions flagged due to SNR < 2 in spw=1 at 2010/04/26/05:17:53.0\n",
      "1 of 38 solutions flagged due to SNR < 2 in spw=1 at 2010/04/26/05:18:00.0\n"
     ]
    },
    {
     "name": "stdout",
     "output_type": "stream",
     "text": [
      "1 of 38 solutions flagged due to SNR < 2 in spw=1 at 2010/04/26/05:24:22.0\n",
      "1 of 38 solutions flagged due to SNR < 2 in spw=1 at 2010/04/26/05:30:58.0\n",
      "1 of 38 solutions flagged due to SNR < 2 in spw=0 at 2010/04/26/05:43:49.0\n",
      "1 of 38 solutions flagged due to SNR < 2 in spw=1 at 2010/04/26/05:43:56.0\n"
     ]
    }
   ],
   "source": [
    "# Gain Calibration\n",
    "\n",
    "gaincal(vis=csource,caltable='intphase.gcal',field='2,5,7',\n",
    "        spw='0~1:4~60',\n",
    "        solint='int',calmode='p', # will derive a single phase solution for each integration (as data was avgd for 10s)\n",
    "        refant='ea02',minsnr=2.0,\n",
    "        gaintable=['antpos.cal','opacity.cal','delays.cal','bandpass.bcal'])"
   ]
  },
  {
   "cell_type": "code",
   "execution_count": 60,
   "id": "78651580",
   "metadata": {},
   "outputs": [],
   "source": [
    "gaincal(vis=csource,caltable='scanphase.gcal',field='2,5,7',\n",
    "        spw='0~1:4~60',solint='inf',refant='ea02',minsnr=2.0,calmode='p',\n",
    "        gaintable=['antpos.cal','opacity.cal','delays.cal','bandpass.bcal'])"
   ]
  },
  {
   "cell_type": "code",
   "execution_count": 69,
   "id": "9e792013",
   "metadata": {},
   "outputs": [
    {
     "name": "stdout",
     "output_type": "stream",
     "text": [
      "1 of 38 solutions flagged due to SNR < 2.000000000000 in spw=0 at 2010/04/26/03:29:14.7\n",
      "1 of 34 solutions flagged due to SNR < 2.000000000000 in spw=1 at 2010/04/26/03:29:15.3\n",
      "1 of 34 solutions flagged due to SNR < 2.000000000000 in spw=1 at 2010/04/26/03:35:44.2\n"
     ]
    }
   ],
   "source": [
    "gaincal(vis=csource,caltable='amp.gcal',field='2,5,7',\n",
    "        spw='0~1:4~60',solint='inf',refant='ea02',minsnr=2.0,calmode='ap',\n",
    "        gaintable=['antpos.cal','opacity.cal','delays.cal','bandpass.bcal','intphase.gcal'])"
   ]
  },
  {
   "cell_type": "code",
   "execution_count": 70,
   "id": "a8193eac",
   "metadata": {},
   "outputs": [
    {
     "data": {
      "text/plain": [
       "{'2': {'0': {'fluxd': array([0.27157678, 0.        , 0.        , 0.        ]),\n",
       "   'fluxdErr': array([0.03269022, 0.        , 0.        , 0.        ]),\n",
       "   'numSol': array([38.,  0.,  0.,  0.])},\n",
       "  '1': {'fluxd': array([0.26827228, 0.        , 0.        , 0.        ]),\n",
       "   'fluxdErr': array([0.03170749, 0.        , 0.        , 0.        ]),\n",
       "   'numSol': array([38.,  0.,  0.,  0.])},\n",
       "  'covarMat': array([[7.11465664e-03, 2.63269854e-01],\n",
       "         [2.63269854e-01, 2.91588965e+04]]),\n",
       "  'fieldName': 'J0954+1743',\n",
       "  'fitFluxd': 0.2699194690852456,\n",
       "  'fitFluxdErr': 6.24938056072569e-09,\n",
       "  'fitRefFreq': 36349862201.616486,\n",
       "  'spidx': array([-0.56876579,  5.38185402]),\n",
       "  'spidxerr': array([1.00551157e-08, 2.03561500e-05])},\n",
       " '5': {'0': {'fluxd': array([31.08555924,  0.        ,  0.        ,  0.        ]),\n",
       "   'fluxdErr': array([0.24362334, 0.        , 0.        , 0.        ]),\n",
       "   'numSol': array([38.,  0.,  0.,  0.])},\n",
       "  '1': {'fluxd': array([30.66536005,  0.        ,  0.        ,  0.        ]),\n",
       "   'fluxdErr': array([0.25973457, 0.        , 0.        , 0.        ]),\n",
       "   'numSol': array([38.,  0.,  0.,  0.])},\n",
       "  'covarMat': array([[ 3.32904576e-05, -5.22250866e-03],\n",
       "         [-5.22250866e-03,  1.36438490e+02]]),\n",
       "  'fieldName': 'J1229+0203',\n",
       "  'fitFluxd': 30.87474480136637,\n",
       "  'fitFluxdErr': 0.0,\n",
       "  'fitRefFreq': 36349862201.616486,\n",
       "  'spidx': array([1.48960338, 5.9828948 ]),\n",
       "  'spidxerr': array([0., 0.])},\n",
       " 'freq': array([3.63912295e+10, 3.63085420e+10]),\n",
       " 'spwID': array([0, 1]),\n",
       " 'spwName': array(['Subband:0', 'Subband:0'], dtype='<U16')}"
      ]
     },
     "execution_count": 70,
     "metadata": {},
     "output_type": "execute_result"
    }
   ],
   "source": [
    "\n",
    "fluxscale(vis=csource,\n",
    "          caltable='amp.gcal',\n",
    "          fluxtable='flux.cal',\n",
    "          reference='7',incremental=True)\n",
    "# derived flux densities"
   ]
  }
 ],
 "metadata": {
  "kernelspec": {
   "display_name": "casadev",
   "language": "python",
   "name": "casadev"
  },
  "language_info": {
   "codemirror_mode": {
    "name": "ipython",
    "version": 3
   },
   "file_extension": ".py",
   "mimetype": "text/x-python",
   "name": "python",
   "nbconvert_exporter": "python",
   "pygments_lexer": "ipython3",
   "version": "3.8.10"
  }
 },
 "nbformat": 4,
 "nbformat_minor": 5
}
